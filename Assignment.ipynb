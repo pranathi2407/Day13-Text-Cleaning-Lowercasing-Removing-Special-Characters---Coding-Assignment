{
 "cells": [
  {
   "cell_type": "markdown",
   "id": "b947fed5",
   "metadata": {},
   "source": [
    "# Text Cleaning Lowercasing Removing Special Characters - Coding Assignment\n",
    "#Assignment:\n",
    "#Write a Python function to clean a given text by removing special characters and converting it to lowercase. Test it with the input: 'Hello, World! Welcome to NLP 101.'\n"
   ]
  },
  {
   "cell_type": "code",
   "execution_count": 3,
   "id": "5443c92b",
   "metadata": {},
   "outputs": [
    {
     "name": "stdout",
     "output_type": "stream",
     "text": [
      "Original Text:  Hello, World! Welcome to NLP 101.\n",
      "Cleaned Text:  hello world welcome to nlp 101\n"
     ]
    }
   ],
   "source": [
    "import re\n",
    "\n",
    "def clean_text(text):\n",
    "    # Convert text to lowercase\n",
    "    text = text.lower()\n",
    "    \n",
    "    # Remove special characters using regular expression (regex)\n",
    "    cleaned_text = re.sub(r'[^a-z0-9\\s]', '', text)\n",
    "    \n",
    "    return cleaned_text\n",
    "\n",
    "# Test the function with the input\n",
    "input_text = 'Hello, World! Welcome to NLP 101.'\n",
    "cleaned_text = clean_text(input_text)\n",
    "\n",
    "# Print the cleaned text\n",
    "print(\"Original Text: \", input_text)\n",
    "print(\"Cleaned Text: \", cleaned_text)\n"
   ]
  },
  {
   "cell_type": "code",
   "execution_count": null,
   "id": "760e5041",
   "metadata": {},
   "outputs": [],
   "source": []
  }
 ],
 "metadata": {
  "kernelspec": {
   "display_name": "Python 3 (ipykernel)",
   "language": "python",
   "name": "python3"
  },
  "language_info": {
   "codemirror_mode": {
    "name": "ipython",
    "version": 3
   },
   "file_extension": ".py",
   "mimetype": "text/x-python",
   "name": "python",
   "nbconvert_exporter": "python",
   "pygments_lexer": "ipython3",
   "version": "3.9.13"
  }
 },
 "nbformat": 4,
 "nbformat_minor": 5
}
